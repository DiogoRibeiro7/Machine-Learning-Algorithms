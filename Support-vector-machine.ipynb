{
 "cells": [
  {
   "cell_type": "code",
   "execution_count": 1,
   "metadata": {},
   "outputs": [],
   "source": [
    "# dependencies\n",
    "from sklearn import datasets\n",
    "from functools import reduce\n",
    "import numpy as np\n",
    "import matplotlib.pyplot as plt"
   ]
  },
  {
   "cell_type": "code",
   "execution_count": 2,
   "metadata": {},
   "outputs": [],
   "source": [
    "class LinearSVM:\n",
    "    def fit(self, X, Y, eta=0.01, epochs=20):\n",
    "        # one-liner SVM train\n",
    "        self.w = reduce(lambda w_outer,epoch: reduce(lambda w,i: w + eta*((X[i]*Y[i]) + (-2*(1/epoch)*w)) if (Y[i]*np.dot(X[i],w)) < 1 else w + eta*(-2*(1/epoch)*w), [w_outer] + list(range(len(X)))), [np.zeros(X.shape[1])] + list(range(1,epochs)))\n"
   ]
  },
  {
   "cell_type": "code",
   "execution_count": 3,
   "metadata": {},
   "outputs": [],
   "source": [
    "class LinearSVM:\n",
    "    \"\"\" Linear support vector machine, unrolled version of above \"\"\"\n",
    "    \n",
    "    def fit(self, X, Y, eta=0.01, epochs=20):\n",
    "        \"\"\" Fit the data to the SVM classifier\n",
    "        \n",
    "        Arguments:\n",
    "        X - the dataset\n",
    "        Y - the labels (-1,1)\n",
    "        eta - learning rate\n",
    "        epochs - the number of times the dataset is iterated through\n",
    "        \"\"\"\n",
    "        self.w = np.zeros(X.shape[1])\n",
    "\n",
    "        for epoch in range(1,epochs):\n",
    "            for i, x in enumerate(X):\n",
    "                if (Y[i]*np.dot(X[i], self.w)) < 1: # wrongly classified\n",
    "                    # margin maximization + hinge loss \n",
    "                    self.w = self.w + eta * ( (X[i] * Y[i]) + (-2  *(1/epoch)* self.w) ) \n",
    "                else:\n",
    "                    # only margin maximization\n",
    "                    self.w = self.w + eta * (-2  *(1/epoch)* self.w)\n"
   ]
  },
  {
   "cell_type": "code",
   "execution_count": 4,
   "metadata": {},
   "outputs": [
    {
     "data": {
      "image/png": "[encoded data removed]",
      "text/plain": [
       "<Figure size 432x288 with 1 Axes>"
      ]
     },
     "metadata": {
      "needs_background": "light"
     },
     "output_type": "display_data"
    }
   ],
   "source": [
    "# generate dataset\n",
    "X, Y = datasets.make_classification(n_samples=1000, n_features=2,n_informative=2, n_redundant=0, n_classes=2, class_sep=3)\n",
    "\n",
    "svm = LinearSVM()\n",
    "svm.fit(X,Y)\n",
    "\n",
    "# plot data\n",
    "plt.scatter(X[:,0],X[:,1], c=Y)\n",
    "\n",
    "# plot trained model regression line\n",
    "xs = np.linspace(min(X[:,0]), max(X[:,0]), 1000)\n",
    "ys = -(svm.w[0]/svm.w[1])*xs #- b/svm.w[1]\n",
    "plt.plot(xs,ys, color='red')\n",
    "plt.show()"
   ]
  },
  {
   "cell_type": "code",
   "execution_count": null,
   "metadata": {
    "collapsed": true
   },
   "outputs": [],
   "source": []
  }
 ],
 "metadata": {
  "kernelspec": {
   "display_name": "Python 3",
   "language": "python",
   "name": "python3"
  },
  "language_info": {
   "codemirror_mode": {
    "name": "ipython",
    "version": 3
   },
   "file_extension": ".py",
   "mimetype": "text/x-python",
   "name": "python",
   "nbconvert_exporter": "python",
   "pygments_lexer": "ipython3",
   "version": "3.6.7"
  }
 },
 "nbformat": 4,
 "nbformat_minor": 2
}
